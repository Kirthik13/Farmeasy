{
 "cells": [
  {
   "cell_type": "code",
   "execution_count": 37,
   "id": "d6f9bba6",
   "metadata": {},
   "outputs": [],
   "source": [
    "import pandas as pd\n",
    "from flask import Flask, Markup\n",
    "\n",
    "title = 'Harvestify - Fertilizer Suggestion'\n",
    "\n",
    "crop_name = 'rice'\n",
    "N = 45\n",
    "P = 69\n",
    "K = 35\n",
    "# ph = float(request.form['ph'])\n",
    "\n",
    "df = pd.read_csv('../Processed data/FertilizerData.csv')\n",
    "\n",
    "nr = df[df['Crop'] == crop_name]['N'].iloc[0]\n",
    "pr = df[df['Crop'] == crop_name]['P'].iloc[0]\n",
    "kr = df[df['Crop'] == crop_name]['K'].iloc[0]\n",
    "\n",
    "n = nr - N\n",
    "p = pr - P\n",
    "k = kr - K\n",
    "temp = {abs(n): \"N\", abs(p): \"P\", abs(k): \"K\"}\n",
    "max_value = temp[max(temp.keys())]\n",
    "if max_value == \"N\":\n",
    "    if n < 0:\n",
    "        key = 'NHigh'\n",
    "    else:\n",
    "        key = \"Nlow\"\n",
    "elif max_value == \"P\":\n",
    "    if p < 0:\n",
    "        key = 'PHigh'\n",
    "    else:\n",
    "        key = \"Plow\"\n",
    "else:\n",
    "    if k < 0:\n",
    "        key = 'KHigh'\n",
    "    else:\n",
    "        key = \"Klow\"\n",
    "\n",
    "response = Markup(str(fertilizer_dic[key]))"
   ]
  },
  {
   "cell_type": "code",
   "execution_count": 35,
   "id": "33480e62",
   "metadata": {},
   "outputs": [],
   "source": [
    "fertilizer_dic = {\n",
    "        'NHigh': \"\"\"The N value of soil is high and might give rise to weeds.\n",
    "        <br/> Please consider the following suggestions:\n",
    "        <br/><br/> 1. <i> Manure </i> – adding manure is one of the simplest ways to amend your soil with nitrogen. Be careful as there are various types of manures with varying degrees of nitrogen.\n",
    "        <br/> 2. <i>Coffee grinds </i> – use your morning addiction to feed your gardening habit! Coffee grinds are considered a green compost material which is rich in nitrogen. Once the grounds break down, your soil will be fed with delicious, delicious nitrogen. An added benefit to including coffee grounds to your soil is while it will compost, it will also help provide increased drainage to your soil.\n",
    "        <br/>3. <i>Plant nitrogen fixing plants</i> – planting vegetables that are in Fabaceae family like peas, beans and soybeans have the ability to increase nitrogen in your soil\n",
    "        <br/>4. Plant ‘green manure’ crops like cabbage, corn and brocolli\n",
    "        <br/>5. <i>Use mulch (wet grass) while growing crops</i> - Mulch can also include sawdust and scrap soft woods\"\"\",\n",
    "\n",
    "        'Nlow': \"\"\"The N value of your soil is low.\n",
    "        <br/> Please consider the following suggestions:\n",
    "        <br/><br/> 1. <i>Add sawdust or fine woodchips to your soil</i> – the carbon in the sawdust/woodchips love nitrogen and will help absorb and soak up and excess nitrogen.\n",
    "        <br/>2. <i>Plant heavy nitrogen feeding plants</i> – tomatoes, corn, broccoli, cabbage and spinach are examples of plants that thrive off nitrogen and will suck the nitrogen dry.\n",
    "        <br/>3. <i>Water</i> – soaking your soil with water will help leach the nitrogen deeper into your soil, effectively leaving less for your plants to use.\n",
    "        <br/>4. <i>Sugar</i> – In limited studies, it was shown that adding sugar to your soil can help potentially reduce the amount of nitrogen is your soil. Sugar is partially composed of carbon, an element which attracts and soaks up the nitrogen in the soil. This is similar concept to adding sawdust/woodchips which are high in carbon content.\n",
    "        <br/>5. Add composted manure to the soil.\n",
    "        <br/>6. Plant Nitrogen fixing plants like peas or beans.\n",
    "        <br/>7. <i>Use NPK fertilizers with high N value.\n",
    "        <br/>8. <i>Do nothing</i> – It may seem counter-intuitive, but if you already have plants that are producing lots of foliage, it may be best to let them continue to absorb all the nitrogen to amend the soil for your next crops.\"\"\",\n",
    "\n",
    "        'PHigh': \"\"\"The P value of your soil is high.\n",
    "        <br/> Please consider the following suggestions:\n",
    "        <br/><br/>1. <i>Avoid adding manure</i> – manure contains many key nutrients for your soil but typically including high levels of phosphorous. Limiting the addition of manure will help reduce phosphorus being added.\n",
    "        <br/>2. <i>Use only phosphorus-free fertilizer</i> – if you can limit the amount of phosphorous added to your soil, you can let the plants use the existing phosphorus while still providing other key nutrients such as Nitrogen and Potassium. Find a fertilizer with numbers such as 10-0-10, where the zero represents no phosphorous.\n",
    "        <br/>3. <i>Water your soil</i> – soaking your soil liberally will aid in driving phosphorous out of the soil. This is recommended as a last ditch effort.\n",
    "        <br/>4. Plant nitrogen fixing vegetables to increase nitrogen without increasing phosphorous (like beans and peas).\n",
    "        <br/>5. Use crop rotations to decrease high phosphorous levels\"\"\",\n",
    "\n",
    "        'Plow': \"\"\"The P value of your soil is low.\n",
    "        <br/> Please consider the following suggestions:\n",
    "        <br/><br/>1. <i>Bone meal</i> – a fast acting source that is made from ground animal bones which is rich in phosphorous.\n",
    "        <br/>2. <i>Rock phosphate</i> – a slower acting source where the soil needs to convert the rock phosphate into phosphorous that the plants can use.\n",
    "        <br/>3. <i>Phosphorus Fertilizers</i> – applying a fertilizer with a high phosphorous content in the NPK ratio (example: 10-20-10, 20 being phosphorous percentage).\n",
    "        <br/>4. <i>Organic compost</i> – adding quality organic compost to your soil will help increase phosphorous content.\n",
    "        <br/>5. <i>Manure</i> – as with compost, manure can be an excellent source of phosphorous for your plants.\n",
    "        <br/>6. <i>Clay soil</i> – introducing clay particles into your soil can help retain & fix phosphorus deficiencies.\n",
    "        <br/>7. <i>Ensure proper soil pH</i> – having a pH in the 6.0 to 7.0 range has been scientifically proven to have the optimal phosphorus uptake in plants.\n",
    "        <br/>8. If soil pH is low, add lime or potassium carbonate to the soil as fertilizers. Pure calcium carbonate is very effective in increasing the pH value of the soil.\n",
    "        <br/>9. If pH is high, addition of appreciable amount of organic matter will help acidify the soil. Application of acidifying fertilizers, such as ammonium sulfate, can help lower soil pH\"\"\",\n",
    "\n",
    "        'KHigh': \"\"\"The K value of your soil is high</b>.\n",
    "        <br/> Please consider the following suggestions:\n",
    "        <br/><br/>1. <i>Loosen the soil</i> deeply with a shovel, and water thoroughly to dissolve water-soluble potassium. Allow the soil to fully dry, and repeat digging and watering the soil two or three more times.\n",
    "        <br/>2. <i>Sift through the soil</i>, and remove as many rocks as possible, using a soil sifter. Minerals occurring in rocks such as mica and feldspar slowly release potassium into the soil slowly through weathering.\n",
    "        <br/>3. Stop applying potassium-rich commercial fertilizer. Apply only commercial fertilizer that has a '0' in the final number field. Commercial fertilizers use a three number system for measuring levels of nitrogen, phosphorous and potassium. The last number stands for potassium. Another option is to stop using commercial fertilizers all together and to begin using only organic matter to enrich the soil.\n",
    "        <br/>4. Mix crushed eggshells, crushed seashells, wood ash or soft rock phosphate to the soil to add calcium. Mix in up to 10 percent of organic compost to help amend and balance the soil.\n",
    "        <br/>5. Use NPK fertilizers with low K levels and organic fertilizers since they have low NPK values.\n",
    "        <br/>6. Grow a cover crop of legumes that will fix nitrogen in the soil. This practice will meet the soil’s needs for nitrogen without increasing phosphorus or potassium.\n",
    "        \"\"\",\n",
    "\n",
    "        'Klow': \"\"\"The K value of your soil is low.\n",
    "        <br/>Please consider the following suggestions:\n",
    "        <br/><br/>1. Mix in muricate of potash or sulphate of potash\n",
    "        <br/>2. Try kelp meal or seaweed\n",
    "        <br/>3. Try Sul-Po-Mag\n",
    "        <br/>4. Bury banana peels an inch below the soils surface\n",
    "        <br/>5. Use Potash fertilizers since they contain high values potassium\n",
    "        \"\"\"\n",
    "    }"
   ]
  },
  {
   "cell_type": "code",
   "execution_count": 38,
   "id": "afe9a03a",
   "metadata": {},
   "outputs": [
    {
     "data": {
      "text/plain": [
       "Markup('The N value of your soil is low.\\n        <br/> Please consider the following suggestions:\\n        <br/><br/> 1. <i>Add sawdust or fine woodchips to your soil</i> – the carbon in the sawdust/woodchips love nitrogen and will help absorb and soak up and excess nitrogen.\\n        <br/>2. <i>Plant heavy nitrogen feeding plants</i> – tomatoes, corn, broccoli, cabbage and spinach are examples of plants that thrive off nitrogen and will suck the nitrogen dry.\\n        <br/>3. <i>Water</i> – soaking your soil with water will help leach the nitrogen deeper into your soil, effectively leaving less for your plants to use.\\n        <br/>4. <i>Sugar</i> – In limited studies, it was shown that adding sugar to your soil can help potentially reduce the amount of nitrogen is your soil. Sugar is partially composed of carbon, an element which attracts and soaks up the nitrogen in the soil. This is similar concept to adding sawdust/woodchips which are high in carbon content.\\n        <br/>5. Add composted manure to the soil.\\n        <br/>6. Plant Nitrogen fixing plants like peas or beans.\\n        <br/>7. <i>Use NPK fertilizers with high N value.\\n        <br/>8. <i>Do nothing</i> – It may seem counter-intuitive, but if you already have plants that are producing lots of foliage, it may be best to let them continue to absorb all the nitrogen to amend the soil for your next crops.')"
      ]
     },
     "execution_count": 38,
     "metadata": {},
     "output_type": "execute_result"
    }
   ],
   "source": [
    "response"
   ]
  },
  {
   "cell_type": "code",
   "execution_count": null,
   "id": "4c85ceae",
   "metadata": {},
   "outputs": [],
   "source": []
  }
 ],
 "metadata": {
  "kernelspec": {
   "display_name": "Python 3 (ipykernel)",
   "language": "python",
   "name": "python3"
  },
  "language_info": {
   "codemirror_mode": {
    "name": "ipython",
    "version": 3
   },
   "file_extension": ".py",
   "mimetype": "text/x-python",
   "name": "python",
   "nbconvert_exporter": "python",
   "pygments_lexer": "ipython3",
   "version": "3.9.7"
  }
 },
 "nbformat": 4,
 "nbformat_minor": 5
}
